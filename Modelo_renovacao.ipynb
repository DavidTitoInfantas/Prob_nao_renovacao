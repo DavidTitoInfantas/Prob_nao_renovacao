{
  "nbformat": 4,
  "nbformat_minor": 0,
  "metadata": {
    "colab": {
      "name": "Modelo_renovacao.ipynb",
      "provenance": [],
      "collapsed_sections": [],
      "include_colab_link": true
    },
    "kernelspec": {
      "name": "python3",
      "display_name": "Python 3"
    },
    "language_info": {
      "name": "python"
    }
  },
  "cells": [
    {
      "cell_type": "markdown",
      "metadata": {
        "id": "view-in-github",
        "colab_type": "text"
      },
      "source": [
        "<a href=\"https://colab.research.google.com/github/DavidTitoInfantas/Prob_nao_renovacao/blob/main/Modelo_renovacao.ipynb\" target=\"_parent\"><img src=\"https://colab.research.google.com/assets/colab-badge.svg\" alt=\"Open In Colab\"/></a>"
      ]
    },
    {
      "cell_type": "markdown",
      "metadata": {
        "id": "zgo8IXS6lRdd"
      },
      "source": [
        "# Projeto 001"
      ]
    },
    {
      "cell_type": "code",
      "metadata": {
        "colab": {
          "base_uri": "https://localhost:8080/"
        },
        "id": "we0Jm-V8xhnf",
        "outputId": "10948317-41a4-4560-8b85-26f2801e6e85"
      },
      "source": [
        "!pip install boruta"
      ],
      "execution_count": 88,
      "outputs": [
        {
          "output_type": "stream",
          "name": "stdout",
          "text": [
            "Requirement already satisfied: boruta in /usr/local/lib/python3.7/dist-packages (0.3)\n",
            "Requirement already satisfied: numpy>=1.10.4 in /usr/local/lib/python3.7/dist-packages (from boruta) (1.19.5)\n",
            "Requirement already satisfied: scipy>=0.17.0 in /usr/local/lib/python3.7/dist-packages (from boruta) (1.4.1)\n",
            "Requirement already satisfied: scikit-learn>=0.17.1 in /usr/local/lib/python3.7/dist-packages (from boruta) (1.0.1)\n",
            "Requirement already satisfied: joblib>=0.11 in /usr/local/lib/python3.7/dist-packages (from scikit-learn>=0.17.1->boruta) (1.1.0)\n",
            "Requirement already satisfied: threadpoolctl>=2.0.0 in /usr/local/lib/python3.7/dist-packages (from scikit-learn>=0.17.1->boruta) (3.0.0)\n"
          ]
        }
      ]
    },
    {
      "cell_type": "code",
      "metadata": {
        "id": "zJbBoQbYWyki"
      },
      "source": [
        "import pandas as pd"
      ],
      "execution_count": 89,
      "outputs": []
    },
    {
      "cell_type": "markdown",
      "metadata": {
        "id": "TYnjgWN1n2D7"
      },
      "source": [
        "### Donwload Data"
      ]
    },
    {
      "cell_type": "code",
      "metadata": {
        "id": "EHHfq6g2YO3E",
        "colab": {
          "base_uri": "https://localhost:8080/",
          "height": 314
        },
        "outputId": "56525096-cb0f-4f8b-9483-b7bdbc7e45f0"
      },
      "source": [
        "df = pd.read_csv('/content/Asset 360 (2) (1).csv')\n",
        "\n",
        "print('a BASE tem {} columns e {} filas'.format(df.shape[0],df.shape[1]))\n",
        "print('-'*80)\n",
        "df.head()"
      ],
      "execution_count": 90,
      "outputs": [
        {
          "output_type": "stream",
          "name": "stdout",
          "text": [
            "a BASE tem 43551 columns e 11 filas\n",
            "--------------------------------------------------------------------------------\n"
          ]
        },
        {
          "output_type": "execute_result",
          "data": {
            "text/html": [
              "<div>\n",
              "<style scoped>\n",
              "    .dataframe tbody tr th:only-of-type {\n",
              "        vertical-align: middle;\n",
              "    }\n",
              "\n",
              "    .dataframe tbody tr th {\n",
              "        vertical-align: top;\n",
              "    }\n",
              "\n",
              "    .dataframe thead th {\n",
              "        text-align: right;\n",
              "    }\n",
              "</style>\n",
              "<table border=\"1\" class=\"dataframe\">\n",
              "  <thead>\n",
              "    <tr style=\"text-align: right;\">\n",
              "      <th></th>\n",
              "      <th>cliente - id_cliente</th>\n",
              "      <th>data_inicio_vigencia_apolice</th>\n",
              "      <th>data_fim_vigencia_apolice</th>\n",
              "      <th>data_emissao_apolice</th>\n",
              "      <th>num_proposta</th>\n",
              "      <th>data_proposta</th>\n",
              "      <th>corretor - id_corretor</th>\n",
              "      <th>Departamento - id_apolice_dep</th>\n",
              "      <th>Status - ID Status Apolice</th>\n",
              "      <th>Produto - cod_produto</th>\n",
              "      <th>Cobertura - id_cobertura</th>\n",
              "    </tr>\n",
              "  </thead>\n",
              "  <tbody>\n",
              "    <tr>\n",
              "      <th>0</th>\n",
              "      <td>30857552</td>\n",
              "      <td>2018-06-27</td>\n",
              "      <td>2021-05-03</td>\n",
              "      <td>2017-06-27</td>\n",
              "      <td>142694.0</td>\n",
              "      <td>2017-03-29</td>\n",
              "      <td>31475748.0</td>\n",
              "      <td>2.0</td>\n",
              "      <td>3.0</td>\n",
              "      <td>5.0</td>\n",
              "      <td>9760507.0</td>\n",
              "    </tr>\n",
              "    <tr>\n",
              "      <th>1</th>\n",
              "      <td>30636255</td>\n",
              "      <td>2019-10-24</td>\n",
              "      <td>2020-01-22</td>\n",
              "      <td>2018-10-24</td>\n",
              "      <td>839415.0</td>\n",
              "      <td>2018-07-26</td>\n",
              "      <td>31268581.0</td>\n",
              "      <td>4.0</td>\n",
              "      <td>5.0</td>\n",
              "      <td>1.0</td>\n",
              "      <td>8334105.0</td>\n",
              "    </tr>\n",
              "    <tr>\n",
              "      <th>2</th>\n",
              "      <td>30628938</td>\n",
              "      <td>2016-04-07</td>\n",
              "      <td>2016-07-06</td>\n",
              "      <td>2015-04-08</td>\n",
              "      <td>964465.0</td>\n",
              "      <td>2015-01-08</td>\n",
              "      <td>31170066.0</td>\n",
              "      <td>4.0</td>\n",
              "      <td>3.0</td>\n",
              "      <td>5.0</td>\n",
              "      <td>7081702.0</td>\n",
              "    </tr>\n",
              "    <tr>\n",
              "      <th>3</th>\n",
              "      <td>30651220</td>\n",
              "      <td>2019-04-04</td>\n",
              "      <td>2020-04-03</td>\n",
              "      <td>2018-04-04</td>\n",
              "      <td>928418.0</td>\n",
              "      <td>2018-01-04</td>\n",
              "      <td>31339487.0</td>\n",
              "      <td>2.0</td>\n",
              "      <td>4.0</td>\n",
              "      <td>4.0</td>\n",
              "      <td>3117073.0</td>\n",
              "    </tr>\n",
              "    <tr>\n",
              "      <th>4</th>\n",
              "      <td>30628064</td>\n",
              "      <td>2019-07-24</td>\n",
              "      <td>2020-07-23</td>\n",
              "      <td>2018-07-24</td>\n",
              "      <td>491721.0</td>\n",
              "      <td>2018-04-25</td>\n",
              "      <td>31343136.0</td>\n",
              "      <td>6.0</td>\n",
              "      <td>5.0</td>\n",
              "      <td>2.0</td>\n",
              "      <td>9653770.0</td>\n",
              "    </tr>\n",
              "  </tbody>\n",
              "</table>\n",
              "</div>"
            ],
            "text/plain": [
              "   cliente - id_cliente  ... Cobertura - id_cobertura\n",
              "0              30857552  ...                9760507.0\n",
              "1              30636255  ...                8334105.0\n",
              "2              30628938  ...                7081702.0\n",
              "3              30651220  ...                3117073.0\n",
              "4              30628064  ...                9653770.0\n",
              "\n",
              "[5 rows x 11 columns]"
            ]
          },
          "metadata": {},
          "execution_count": 90
        }
      ]
    },
    {
      "cell_type": "code",
      "metadata": {
        "id": "vc8LuznzYdcW",
        "colab": {
          "base_uri": "https://localhost:8080/"
        },
        "outputId": "49c1afc3-9901-4ea4-e545-19e25a30ef54"
      },
      "source": [
        "print('Procentagem de Nulls')\n",
        "print('-'*80)\n",
        "(df.isnull().sum()/df.shape[0])*100"
      ],
      "execution_count": 91,
      "outputs": [
        {
          "output_type": "stream",
          "name": "stdout",
          "text": [
            "Procentagem de Nulls\n",
            "--------------------------------------------------------------------------------\n"
          ]
        },
        {
          "output_type": "execute_result",
          "data": {
            "text/plain": [
              "cliente - id_cliente              0.000000\n",
              "data_inicio_vigencia_apolice      0.000000\n",
              "data_fim_vigencia_apolice        16.773438\n",
              "data_emissao_apolice              0.002296\n",
              "num_proposta                      0.002296\n",
              "data_proposta                     0.002296\n",
              "corretor - id_corretor            0.002296\n",
              "Departamento - id_apolice_dep     0.002296\n",
              "Status - ID Status Apolice        0.002296\n",
              "Produto - cod_produto             0.002296\n",
              "Cobertura - id_cobertura          0.002296\n",
              "dtype: float64"
            ]
          },
          "metadata": {},
          "execution_count": 91
        }
      ]
    },
    {
      "cell_type": "code",
      "metadata": {
        "colab": {
          "base_uri": "https://localhost:8080/"
        },
        "id": "89RZscS6elr1",
        "outputId": "98e84e68-f04c-44b5-e7ff-d02535b94f51"
      },
      "source": [
        "from google.colab import drive\n",
        "drive.mount('/content/drive')"
      ],
      "execution_count": 92,
      "outputs": [
        {
          "output_type": "stream",
          "name": "stdout",
          "text": [
            "Drive already mounted at /content/drive; to attempt to forcibly remount, call drive.mount(\"/content/drive\", force_remount=True).\n"
          ]
        }
      ]
    },
    {
      "cell_type": "code",
      "metadata": {
        "colab": {
          "base_uri": "https://localhost:8080/",
          "height": 433
        },
        "id": "g1W7g4JbtKHu",
        "outputId": "705be4fb-5e71-4499-dcd0-99dc9bf55f72"
      },
      "source": [
        "df_1 = pd.read_csv('/content/Asset 360 (2)_info_pessoas.csv')\n",
        "\n",
        "print('a BASE tem {} columns e {} filas'.format(df_1.shape[0],df_1.shape[1]))\n",
        "print('-'*80)\n",
        "df_1.head()"
      ],
      "execution_count": 93,
      "outputs": [
        {
          "output_type": "stream",
          "name": "stdout",
          "text": [
            "a BASE tem 35903 columns e 9 filas\n",
            "--------------------------------------------------------------------------------\n"
          ]
        },
        {
          "output_type": "execute_result",
          "data": {
            "text/html": [
              "<div>\n",
              "<style scoped>\n",
              "    .dataframe tbody tr th:only-of-type {\n",
              "        vertical-align: middle;\n",
              "    }\n",
              "\n",
              "    .dataframe tbody tr th {\n",
              "        vertical-align: top;\n",
              "    }\n",
              "\n",
              "    .dataframe thead th {\n",
              "        text-align: right;\n",
              "    }\n",
              "</style>\n",
              "<table border=\"1\" class=\"dataframe\">\n",
              "  <thead>\n",
              "    <tr style=\"text-align: right;\">\n",
              "      <th></th>\n",
              "      <th>Quantidade Dependentes</th>\n",
              "      <th>Escolaridade</th>\n",
              "      <th>Estado Civil</th>\n",
              "      <th>Profissão</th>\n",
              "      <th>Gênero</th>\n",
              "      <th>Data de Nascimento</th>\n",
              "      <th>Pessoa Publica</th>\n",
              "      <th>Politicamente Exposta</th>\n",
              "      <th>Cliente - id_cliente</th>\n",
              "    </tr>\n",
              "  </thead>\n",
              "  <tbody>\n",
              "    <tr>\n",
              "      <th>0</th>\n",
              "      <td>0</td>\n",
              "      <td>ensino fundamental completo</td>\n",
              "      <td>solteiro</td>\n",
              "      <td>gerente de loja</td>\n",
              "      <td>Feminino</td>\n",
              "      <td>1987-07-12</td>\n",
              "      <td>False</td>\n",
              "      <td>False</td>\n",
              "      <td>30622304</td>\n",
              "    </tr>\n",
              "    <tr>\n",
              "      <th>1</th>\n",
              "      <td>2</td>\n",
              "      <td>ensino superior completo</td>\n",
              "      <td>casado</td>\n",
              "      <td>agente de viagem</td>\n",
              "      <td>Feminino</td>\n",
              "      <td>1987-03-25</td>\n",
              "      <td>False</td>\n",
              "      <td>False</td>\n",
              "      <td>30622305</td>\n",
              "    </tr>\n",
              "    <tr>\n",
              "      <th>2</th>\n",
              "      <td>5</td>\n",
              "      <td>ensino medio completo</td>\n",
              "      <td>divorciado</td>\n",
              "      <td>agente de venda de servicos as empresas</td>\n",
              "      <td>Masculino</td>\n",
              "      <td>1975-10-24</td>\n",
              "      <td>False</td>\n",
              "      <td>False</td>\n",
              "      <td>30622306</td>\n",
              "    </tr>\n",
              "    <tr>\n",
              "      <th>3</th>\n",
              "      <td>0</td>\n",
              "      <td>ensino superior completo</td>\n",
              "      <td>casado</td>\n",
              "      <td>tecnico de seguranca do trabalho</td>\n",
              "      <td>Masculino</td>\n",
              "      <td>1990-10-03</td>\n",
              "      <td>False</td>\n",
              "      <td>False</td>\n",
              "      <td>30622307</td>\n",
              "    </tr>\n",
              "    <tr>\n",
              "      <th>4</th>\n",
              "      <td>0</td>\n",
              "      <td>ensino fundamental completo</td>\n",
              "      <td>solteiro</td>\n",
              "      <td>operador de computador</td>\n",
              "      <td>Masculino</td>\n",
              "      <td>1985-06-23</td>\n",
              "      <td>False</td>\n",
              "      <td>False</td>\n",
              "      <td>30622308</td>\n",
              "    </tr>\n",
              "  </tbody>\n",
              "</table>\n",
              "</div>"
            ],
            "text/plain": [
              "   Quantidade Dependentes  ... Cliente - id_cliente\n",
              "0                       0  ...             30622304\n",
              "1                       2  ...             30622305\n",
              "2                       5  ...             30622306\n",
              "3                       0  ...             30622307\n",
              "4                       0  ...             30622308\n",
              "\n",
              "[5 rows x 9 columns]"
            ]
          },
          "metadata": {},
          "execution_count": 93
        }
      ]
    },
    {
      "cell_type": "code",
      "metadata": {
        "colab": {
          "base_uri": "https://localhost:8080/"
        },
        "id": "EMBaDgHRtbIS",
        "outputId": "de904c87-15b5-4d6f-b9f0-0e79aa60f3b0"
      },
      "source": [
        "print('Procentagem de Nulls')\n",
        "print('-'*80)\n",
        "(df_1.isnull().sum()/df_1.shape[0])*100"
      ],
      "execution_count": 94,
      "outputs": [
        {
          "output_type": "stream",
          "name": "stdout",
          "text": [
            "Procentagem de Nulls\n",
            "--------------------------------------------------------------------------------\n"
          ]
        },
        {
          "output_type": "execute_result",
          "data": {
            "text/plain": [
              "Quantidade Dependentes    0.000000\n",
              "Escolaridade              0.005571\n",
              "Estado Civil              0.005571\n",
              "Profissão                 0.005571\n",
              "Gênero                    0.005571\n",
              "Data de Nascimento        0.005571\n",
              "Pessoa Publica            0.005571\n",
              "Politicamente Exposta     0.005571\n",
              "Cliente - id_cliente      0.000000\n",
              "dtype: float64"
            ]
          },
          "metadata": {},
          "execution_count": 94
        }
      ]
    },
    {
      "cell_type": "markdown",
      "metadata": {
        "id": "VWeifHCvtsn9"
      },
      "source": [
        "### Mege Tables"
      ]
    },
    {
      "cell_type": "code",
      "metadata": {
        "colab": {
          "base_uri": "https://localhost:8080/",
          "height": 330
        },
        "id": "p1j9mxlstlq9",
        "outputId": "cb737e87-b215-4ccc-a893-87f9ba0f246d"
      },
      "source": [
        "df_merge = df.merge(df_1.rename(columns={'Cliente - id_cliente':'cliente - id_cliente'}), how='inner', on='cliente - id_cliente')\n",
        "df_merge.head()"
      ],
      "execution_count": 101,
      "outputs": [
        {
          "output_type": "execute_result",
          "data": {
            "text/html": [
              "<div>\n",
              "<style scoped>\n",
              "    .dataframe tbody tr th:only-of-type {\n",
              "        vertical-align: middle;\n",
              "    }\n",
              "\n",
              "    .dataframe tbody tr th {\n",
              "        vertical-align: top;\n",
              "    }\n",
              "\n",
              "    .dataframe thead th {\n",
              "        text-align: right;\n",
              "    }\n",
              "</style>\n",
              "<table border=\"1\" class=\"dataframe\">\n",
              "  <thead>\n",
              "    <tr style=\"text-align: right;\">\n",
              "      <th></th>\n",
              "      <th>cliente - id_cliente</th>\n",
              "      <th>data_inicio_vigencia_apolice</th>\n",
              "      <th>data_fim_vigencia_apolice</th>\n",
              "      <th>data_emissao_apolice</th>\n",
              "      <th>num_proposta</th>\n",
              "      <th>data_proposta</th>\n",
              "      <th>corretor - id_corretor</th>\n",
              "      <th>Departamento - id_apolice_dep</th>\n",
              "      <th>Status - ID Status Apolice</th>\n",
              "      <th>Produto - cod_produto</th>\n",
              "      <th>Cobertura - id_cobertura</th>\n",
              "      <th>Quantidade Dependentes</th>\n",
              "      <th>Escolaridade</th>\n",
              "      <th>Estado Civil</th>\n",
              "      <th>Profissão</th>\n",
              "      <th>Gênero</th>\n",
              "      <th>Data de Nascimento</th>\n",
              "      <th>Pessoa Publica</th>\n",
              "      <th>Politicamente Exposta</th>\n",
              "    </tr>\n",
              "  </thead>\n",
              "  <tbody>\n",
              "    <tr>\n",
              "      <th>0</th>\n",
              "      <td>30857552</td>\n",
              "      <td>2018-06-27</td>\n",
              "      <td>2021-05-03</td>\n",
              "      <td>2017-06-27</td>\n",
              "      <td>142694.0</td>\n",
              "      <td>2017-03-29</td>\n",
              "      <td>31475748.0</td>\n",
              "      <td>2.0</td>\n",
              "      <td>3.0</td>\n",
              "      <td>5.0</td>\n",
              "      <td>9760507.0</td>\n",
              "      <td>1</td>\n",
              "      <td>MBA</td>\n",
              "      <td>solteira</td>\n",
              "      <td>medica</td>\n",
              "      <td>feminino</td>\n",
              "      <td>1967-05-02</td>\n",
              "      <td>False</td>\n",
              "      <td>False</td>\n",
              "    </tr>\n",
              "    <tr>\n",
              "      <th>1</th>\n",
              "      <td>30857552</td>\n",
              "      <td>2021-05-04</td>\n",
              "      <td>2024-05-04</td>\n",
              "      <td>2021-04-04</td>\n",
              "      <td>123445.0</td>\n",
              "      <td>2021-03-11</td>\n",
              "      <td>31270582.0</td>\n",
              "      <td>3.0</td>\n",
              "      <td>1.0</td>\n",
              "      <td>32.0</td>\n",
              "      <td>10182.0</td>\n",
              "      <td>1</td>\n",
              "      <td>MBA</td>\n",
              "      <td>solteira</td>\n",
              "      <td>medica</td>\n",
              "      <td>feminino</td>\n",
              "      <td>1967-05-02</td>\n",
              "      <td>False</td>\n",
              "      <td>False</td>\n",
              "    </tr>\n",
              "    <tr>\n",
              "      <th>2</th>\n",
              "      <td>30636255</td>\n",
              "      <td>2019-10-24</td>\n",
              "      <td>2020-01-22</td>\n",
              "      <td>2018-10-24</td>\n",
              "      <td>839415.0</td>\n",
              "      <td>2018-07-26</td>\n",
              "      <td>31268581.0</td>\n",
              "      <td>4.0</td>\n",
              "      <td>5.0</td>\n",
              "      <td>1.0</td>\n",
              "      <td>8334105.0</td>\n",
              "      <td>0</td>\n",
              "      <td>ensino medio completo</td>\n",
              "      <td>solteiro</td>\n",
              "      <td>economistas</td>\n",
              "      <td>Masculino</td>\n",
              "      <td>1990-03-30</td>\n",
              "      <td>False</td>\n",
              "      <td>False</td>\n",
              "    </tr>\n",
              "    <tr>\n",
              "      <th>3</th>\n",
              "      <td>30636255</td>\n",
              "      <td>2015-03-02</td>\n",
              "      <td>2015-05-31</td>\n",
              "      <td>2014-03-02</td>\n",
              "      <td>108525.0</td>\n",
              "      <td>2013-12-02</td>\n",
              "      <td>31305504.0</td>\n",
              "      <td>4.0</td>\n",
              "      <td>5.0</td>\n",
              "      <td>4.0</td>\n",
              "      <td>9051300.0</td>\n",
              "      <td>0</td>\n",
              "      <td>ensino medio completo</td>\n",
              "      <td>solteiro</td>\n",
              "      <td>economistas</td>\n",
              "      <td>Masculino</td>\n",
              "      <td>1990-03-30</td>\n",
              "      <td>False</td>\n",
              "      <td>False</td>\n",
              "    </tr>\n",
              "    <tr>\n",
              "      <th>4</th>\n",
              "      <td>30628938</td>\n",
              "      <td>2016-04-07</td>\n",
              "      <td>2016-07-06</td>\n",
              "      <td>2015-04-08</td>\n",
              "      <td>964465.0</td>\n",
              "      <td>2015-01-08</td>\n",
              "      <td>31170066.0</td>\n",
              "      <td>4.0</td>\n",
              "      <td>3.0</td>\n",
              "      <td>5.0</td>\n",
              "      <td>7081702.0</td>\n",
              "      <td>3</td>\n",
              "      <td>ensino medio completo</td>\n",
              "      <td>casado</td>\n",
              "      <td>professor de psicologia</td>\n",
              "      <td>Feminino</td>\n",
              "      <td>1988-07-28</td>\n",
              "      <td>False</td>\n",
              "      <td>False</td>\n",
              "    </tr>\n",
              "  </tbody>\n",
              "</table>\n",
              "</div>"
            ],
            "text/plain": [
              "   cliente - id_cliente  ... Politicamente Exposta\n",
              "0              30857552  ...                 False\n",
              "1              30857552  ...                 False\n",
              "2              30636255  ...                 False\n",
              "3              30636255  ...                 False\n",
              "4              30628938  ...                 False\n",
              "\n",
              "[5 rows x 19 columns]"
            ]
          },
          "metadata": {},
          "execution_count": 101
        }
      ]
    },
    {
      "cell_type": "markdown",
      "metadata": {
        "id": "_s4HDaSXcJ24"
      },
      "source": [
        "### Feature Engenieer (Encoding)"
      ]
    },
    {
      "cell_type": "code",
      "metadata": {
        "id": "Bbop96v2cody"
      },
      "source": [
        "def funcao_limpeza(df):\n",
        "  # Inferencia de Idade dos clientes\n",
        "  df_training = df.copy()\n",
        "  ano_atual =int(pd.to_datetime('today').normalize().strftime(\"%Y\"))\n",
        "\n",
        "  df_training['Idade'] = ano_atual - df_training['Data de Nascimento'].apply(lambda x: int(pd.to_datetime(x).strftime(\"%Y\")))\n",
        "\n",
        "  # Criação de Safras\n",
        "\n",
        "  df_training['data_emissao_apolice'].fillna('2016-05-08',inplace=True)\n",
        "  df_training['Safra'] = df_training['data_emissao_apolice'].apply(lambda x: pd.to_datetime(x).strftime(\"%Y-%m\"))\n",
        "  df_training['Escolaridade'].replace(['ensino fundamental incompleto', 'ensino fundamental completo',\n",
        "                                     'ensino medio completo','ensino superior completo', 'MBA'],\n",
        "                                    [0,0,1,2,3],inplace=True)\n",
        "\n",
        "  ## Encoding Estado Civil\n",
        "  df_training['Estado Civil'].replace(['solteiro', 'solteira', 'casado', 'divorciado', 'viuvo'],[0,0,1,2,3],inplace=True)\n",
        "\n",
        "  ## Profissão não será tomada em consideração \n",
        "\n",
        "  ## Encoding Gênero\n",
        "  df_training['Gênero'].replace(['Masculino', 'Feminino', 'feminino'],[0, 1, 1],inplace=True)\n",
        "\n",
        "  ## Encouding Pessoa Publica\n",
        "  df_training['Pessoa Publica'].replace([False,True], [0, 1],inplace=True)\n",
        "\n",
        "  ## Encouding Politicamente Exposta\n",
        "  df_training['Politicamente Exposta'].replace([False,True], [0, 1],inplace=True)\n",
        "\n",
        "  ### Econding Target\n",
        "\n",
        "  ## Encouding Status - ID Status Apolice\n",
        "  df_training['Status - ID Status Apolice'].replace(1,'A',inplace=True)\n",
        "  df_training['Status - ID Status Apolice'].replace([2,3,4,5],1,inplace=True)\n",
        "  df_training['Status - ID Status Apolice'].replace('A',0,inplace=True) \n",
        "\n",
        "  return df_training"
      ],
      "execution_count": 102,
      "outputs": []
    },
    {
      "cell_type": "code",
      "metadata": {
        "id": "cp8w9oj2kGGV"
      },
      "source": [
        "df_training = funcao_limpeza(df_merge)"
      ],
      "execution_count": 103,
      "outputs": []
    },
    {
      "cell_type": "markdown",
      "metadata": {
        "id": "Ln8l69r2qPgW"
      },
      "source": [
        "### Feature Selection"
      ]
    },
    {
      "cell_type": "code",
      "metadata": {
        "id": "D0sQ8brlorCu"
      },
      "source": [
        "Filtro = ['Departamento - id_apolice_dep', \n",
        "          'Produto - cod_produto', 'Quantidade Dependentes', 'Escolaridade',\n",
        "          'Estado Civil','Gênero', 'Pessoa Publica', 'Politicamente Exposta',\n",
        "          'Idade', 'Safra','Status - ID Status Apolice']\n",
        "\n",
        "df_training_final = df_training[df_training['Status - ID Status Apolice'].isnull()==False][Filtro]"
      ],
      "execution_count": 104,
      "outputs": []
    },
    {
      "cell_type": "code",
      "metadata": {
        "colab": {
          "base_uri": "https://localhost:8080/"
        },
        "id": "AK4V2ykA1hwI",
        "outputId": "75750cb1-3340-462d-dc4a-6a5f6db099a9"
      },
      "source": [
        "df_training_final['Status - ID Status Apolice'].value_counts(normalize=True)"
      ],
      "execution_count": 105,
      "outputs": [
        {
          "output_type": "execute_result",
          "data": {
            "text/plain": [
              "1.0    0.878094\n",
              "0.0    0.121906\n",
              "Name: Status - ID Status Apolice, dtype: float64"
            ]
          },
          "metadata": {},
          "execution_count": 105
        }
      ]
    },
    {
      "cell_type": "code",
      "metadata": {
        "id": "3TuCOw0M2CSR",
        "colab": {
          "base_uri": "https://localhost:8080/"
        },
        "outputId": "453f0113-dc1b-482b-b103-d3e0dd8a3d92"
      },
      "source": [
        "df_training_final['Safra'].sort_values().unique()"
      ],
      "execution_count": 106,
      "outputs": [
        {
          "output_type": "execute_result",
          "data": {
            "text/plain": [
              "array(['2014-01', '2014-02', '2014-03', '2014-04', '2014-05', '2014-06',\n",
              "       '2014-07', '2014-08', '2014-09', '2014-10', '2014-11', '2014-12',\n",
              "       '2015-01', '2015-02', '2015-03', '2015-04', '2015-05', '2015-06',\n",
              "       '2015-07', '2015-08', '2015-09', '2015-10', '2015-11', '2015-12',\n",
              "       '2016-01', '2016-02', '2016-03', '2016-04', '2016-05', '2016-06',\n",
              "       '2016-07', '2016-08', '2016-09', '2016-10', '2016-11', '2016-12',\n",
              "       '2017-01', '2017-02', '2017-03', '2017-04', '2017-05', '2017-06',\n",
              "       '2017-07', '2017-08', '2017-09', '2017-10', '2017-11', '2017-12',\n",
              "       '2018-01', '2018-02', '2018-03', '2018-04', '2018-05', '2018-06',\n",
              "       '2018-07', '2018-08', '2018-09', '2018-10', '2018-11', '2018-12',\n",
              "       '2019-01', '2019-02', '2019-03', '2019-04', '2019-05', '2019-06',\n",
              "       '2019-07', '2019-08', '2019-09', '2019-10', '2019-11', '2019-12',\n",
              "       '2021-04'], dtype=object)"
            ]
          },
          "metadata": {},
          "execution_count": 106
        }
      ]
    },
    {
      "cell_type": "code",
      "metadata": {
        "id": "VPCqavzl2wRK"
      },
      "source": [
        "#split data\n",
        "\n",
        "x_training = df_training_final[~df_training_final['Safra'].isin(['2019-11', '2019-12','2021-04'])].drop(columns=['Status - ID Status Apolice','Safra'])\n",
        "y_training = df_training_final[~df_training_final['Safra'].isin(['2019-11', '2019-12','2021-04'])]['Status - ID Status Apolice']\n",
        "\n",
        "x_test = df_training_final[df_training_final['Safra'].isin(['2019-11', '2019-12','2021-04'])].drop(columns=['Status - ID Status Apolice','Safra'])\n",
        "y_test = df_training_final[df_training_final['Safra'].isin(['2019-11', '2019-12','2021-04'])]['Status - ID Status Apolice']\n"
      ],
      "execution_count": 107,
      "outputs": []
    },
    {
      "cell_type": "code",
      "metadata": {
        "id": "nZ3lrBF8rDjD"
      },
      "source": [
        "from boruta import BorutaPy\n",
        "from sklearn.ensemble import RandomForestRegressor\n",
        "import numpy as np\n",
        "###initialize Boruta\n",
        "\n",
        "def boruta(X,y):\n",
        "  forest = RandomForestRegressor(\n",
        "   n_jobs = -1, \n",
        "   max_depth = 5)\n",
        "  boruta = BorutaPy(\n",
        "   estimator = forest, \n",
        "   n_estimators = 'auto',\n",
        "   max_iter = 100 # number of trials to perform\n",
        "                  )\n",
        "### fit Boruta (it accepts np.array, not pd.DataFrame)\n",
        "  boruta.fit(np.array(X), np.array(y))\n",
        "### print results\n",
        "  green_area = X.columns[boruta.support_].to_list()\n",
        "  blue_area = X.columns[boruta.support_weak_].to_list()\n",
        "  print('features in the green area:', green_area)\n",
        "  print('='*80)\n",
        "  print('features in the blue area:', blue_area)\n",
        "  return green_area\n"
      ],
      "execution_count": 108,
      "outputs": []
    },
    {
      "cell_type": "code",
      "metadata": {
        "colab": {
          "base_uri": "https://localhost:8080/"
        },
        "id": "0p0cbT7ArtG2",
        "outputId": "bcb62f90-7bbe-4dc0-c634-752bdbd0fde3"
      },
      "source": [
        "boruta_feauter = boruta(X = x_training, y = y_training)"
      ],
      "execution_count": 109,
      "outputs": [
        {
          "output_type": "stream",
          "name": "stdout",
          "text": [
            "features in the green area: ['Departamento - id_apolice_dep']\n",
            "================================================================================\n",
            "features in the blue area: []\n"
          ]
        }
      ]
    },
    {
      "cell_type": "code",
      "metadata": {
        "id": "Tbi3pxTJyU5V",
        "colab": {
          "base_uri": "https://localhost:8080/",
          "height": 621
        },
        "outputId": "8816e6c5-ca63-467b-d751-b98352a17875"
      },
      "source": [
        "from sklearn.model_selection import train_test_split\n",
        "from sklearn.ensemble import RandomForestClassifier\n",
        "from sklearn.model_selection import train_test_split\n",
        "import matplotlib.pyplot as plt\n",
        "\n",
        "# Spliting data into test and train sets\n",
        "\n",
        "def Feature_importances(X,y): \n",
        "  X_train, X_test, y_train, y_test = train_test_split(X, y, test_size=0.20, random_state=0)\n",
        "  # fitting the model\n",
        "  model = RandomForestClassifier(n_estimators=500, n_jobs=-1, random_state=42)\n",
        "  model.fit(X_train, y_train)\n",
        "  # plotting feature importances\n",
        "  features = X.columns\n",
        "  importances = model.feature_importances_\n",
        "  indices = np.argsort(importances)\n",
        "  plt.figure(figsize=(5,10))\n",
        "  plt.title('Feature Importances')\n",
        "  plt.barh(range(len(indices)), importances[indices], color='b', align='center')\n",
        "  plt.yticks(range(len(indices)), [features[i] for i in indices])\n",
        "  plt.xlabel('Relative Importance')\n",
        "  plt.show()\n",
        "  a = [features[i] for i in indices]\n",
        "  return pd.DataFrame({\n",
        "        'Features'   : [features[i] for i in indices],\n",
        "        'Importance'  : importances[indices]}).sort_values(by=['Importance'],ascending=False)\n",
        "\n",
        "df_001 = Feature_importances(X = x_training, y = y_training)\n"
      ],
      "execution_count": 127,
      "outputs": [
        {
          "output_type": "display_data",
          "data": {
            "image/png": "[encoded data removed]",
            "text/plain": [
              "<Figure size 360x720 with 1 Axes>"
            ]
          },
          "metadata": {
            "needs_background": "light"
          }
        }
      ]
    },
    {
      "cell_type": "markdown",
      "metadata": {
        "id": "r3hTOsZX55OL"
      },
      "source": [
        "### Training models"
      ]
    },
    {
      "cell_type": "code",
      "metadata": {
        "id": "c2tOzhxa6QMa"
      },
      "source": [
        "Filtro_1 = ['Departamento - id_apolice_dep','Produto - cod_produto', 'Quantidade Dependentes', 'Escolaridade',\n",
        "          'Estado Civil', 'Idade']"
      ],
      "execution_count": 111,
      "outputs": []
    },
    {
      "cell_type": "code",
      "metadata": {
        "id": "TEFVeK37-pKz"
      },
      "source": [
        "#from sklearn.tree import DecisionTreeClassifier\n",
        "import numpy as np\n",
        "\n",
        "from sklearn.model_selection import StratifiedKFold, KFold\n",
        "from sklearn.model_selection import cross_val_score\n",
        "\n",
        "#from sklearn.linear_model import LogisticRegression\n",
        "from sklearn.model_selection import cross_val_predict\n",
        "\n",
        "#import matplotlib.pyplot as plt\n",
        "from sklearn import metrics\n",
        "from sklearn.metrics import roc_auc_score\n",
        "\n",
        "scv = StratifiedKFold(n_splits=5, random_state=0, shuffle=True)\n",
        "\n",
        "from IPython.display import display_html\n",
        "def display_side_by_side(*args):\n",
        "    html_str=''\n",
        "    for df in args:\n",
        "        html_str+=df.to_html()\n",
        "    display_html(html_str.replace('table','table style=\"display:inline\"'),raw=True)\n",
        "def metricas(scores,target):\n",
        "    return pd.DataFrame({\n",
        "        'KS'   : [ks2(scores,target)],\n",
        "        'ROC'  : [roc_auc_score(y_score=scores,y_true=target)],\n",
        "        'GINI' : [2 * roc_auc_score(y_score=scores,y_true=target) - 1]\n",
        "    })\n",
        "def ks2(score, alvo):\n",
        "    b2 = pd.crosstab(score, alvo, rownames = ['score']).reset_index()\n",
        "    if len(np.unique(alvo)) > 1:\n",
        "        freq_bom = b2.iloc[:,1]/sum(b2.iloc[:,1])\n",
        "        freq_mau = b2.iloc[:,2]/sum(b2.iloc[:,2])\n",
        "        ac_bom = np.cumsum(freq_bom)\n",
        "        ac_mau = np.cumsum(freq_mau)\n",
        "        diff = np.abs(ac_bom - ac_mau).round(7)\n",
        "        ks = diff.max() * 100\n",
        "    else:\n",
        "        ks = 0\n",
        "    return ks\n"
      ],
      "execution_count": 112,
      "outputs": []
    },
    {
      "cell_type": "code",
      "metadata": {
        "id": "UT29KDry8i28"
      },
      "source": [
        "from xgboost import XGBClassifier\n",
        "\n",
        "def stratificated_cross_validation_XGB(x,y,num_rep=10):\n",
        "  X = x\n",
        "  target = y\n",
        "  numero_repeticoes = num_rep\n",
        "  resultados = []\n",
        "  list_modelos = []\n",
        "  for k in range(0,numero_repeticoes):\n",
        "        metricas_cada_validacao = []\n",
        "        i = 0\n",
        "        skf = StratifiedKFold(n_splits=2+k, random_state=None)\n",
        "        for train_index, val_index in skf.split(X,target):\n",
        "            i = 1 + i\n",
        "            X_train, X_test = X.iloc[train_index], X.iloc[val_index]\n",
        "            y_train, y_test = target.iloc[train_index], target.iloc[val_index]\n",
        "\n",
        "            baseline = XGBClassifier(subsample=0.9, silent=False, reg_lambda=1.0\n",
        "                                    ,n_estimators=100,min_child_weight=5,max_depth=15\n",
        "                                   ,learning_rate=0.1,gamma=0.25,colsample_bytree=0.8, colsample_bylevel=0.6)\n",
        "                        \n",
        "            baseline.fit(X_train,y_train)\n",
        "            #list_modelos.append(model)\n",
        "            metricas_cada_validacao.append(metricas(baseline.predict_proba(X_test)[:,1],y_test))\n",
        "            #print(\"Resultado da Validação nº\",i,\":\",metricas(baseline.predict_proba(X_test)[:,1],y_test))\n",
        "            list_modelos.append(baseline)\n",
        "\n",
        "        resultados.append(pd.DataFrame({'Validacao '+str(k):pd.concat(metricas_cada_validacao).apply(np.mean,axis=0)}))\n",
        "  return pd.concat(resultados,axis=1),list_modelos"
      ],
      "execution_count": 113,
      "outputs": []
    },
    {
      "cell_type": "code",
      "metadata": {
        "colab": {
          "base_uri": "https://localhost:8080/",
          "height": 143
        },
        "id": "U5xTlMxt8iyz",
        "outputId": "e893e16c-ec37-4424-b340-8d2610a6eadb"
      },
      "source": [
        "resultados,modelos = stratificated_cross_validation_XGB(x_training[Filtro_1],y_training,num_rep=2)\n",
        "resultados"
      ],
      "execution_count": 114,
      "outputs": [
        {
          "output_type": "execute_result",
          "data": {
            "text/html": [
              "<div>\n",
              "<style scoped>\n",
              "    .dataframe tbody tr th:only-of-type {\n",
              "        vertical-align: middle;\n",
              "    }\n",
              "\n",
              "    .dataframe tbody tr th {\n",
              "        vertical-align: top;\n",
              "    }\n",
              "\n",
              "    .dataframe thead th {\n",
              "        text-align: right;\n",
              "    }\n",
              "</style>\n",
              "<table border=\"1\" class=\"dataframe\">\n",
              "  <thead>\n",
              "    <tr style=\"text-align: right;\">\n",
              "      <th></th>\n",
              "      <th>Validacao 0</th>\n",
              "      <th>Validacao 1</th>\n",
              "    </tr>\n",
              "  </thead>\n",
              "  <tbody>\n",
              "    <tr>\n",
              "      <th>KS</th>\n",
              "      <td>32.184465</td>\n",
              "      <td>32.460827</td>\n",
              "    </tr>\n",
              "    <tr>\n",
              "      <th>ROC</th>\n",
              "      <td>0.673094</td>\n",
              "      <td>0.669808</td>\n",
              "    </tr>\n",
              "    <tr>\n",
              "      <th>GINI</th>\n",
              "      <td>0.346187</td>\n",
              "      <td>0.339615</td>\n",
              "    </tr>\n",
              "  </tbody>\n",
              "</table>\n",
              "</div>"
            ],
            "text/plain": [
              "      Validacao 0  Validacao 1\n",
              "KS      32.184465    32.460827\n",
              "ROC      0.673094     0.669808\n",
              "GINI     0.346187     0.339615"
            ]
          },
          "metadata": {},
          "execution_count": 114
        }
      ]
    },
    {
      "cell_type": "code",
      "metadata": {
        "id": "nny27RlO8iur"
      },
      "source": [
        "def tab_modelos(list_modelos_03,X,y):\n",
        "  l_ks = []\n",
        "  l_roc = []\n",
        "  l_gini = []\n",
        "  l_modelo =[] \n",
        "\n",
        "  for i in range(len(list_modelos_03)): \n",
        "    #print(metricas(list_modelos_03[i].predict_proba(X[filtro])[:,0],y))\n",
        "    lt = metricas(list_modelos_03[i].predict_proba(X)[:,1],y)\n",
        "    l_ks.append(lt.iloc[:,0].values[0])\n",
        "    l_roc.append(lt.iloc[:,1].values[0])\n",
        "    l_gini.append(lt.iloc[:,2].values[0])\n",
        "    n = str(i)\n",
        "    l_modelo.append(n)\n",
        "  \n",
        "  tabela = pd.DataFrame({'Modelo' : l_modelo,'KS'  : l_ks,'ROC' : l_roc,'GINI' : l_gini})\n",
        "  tabela['Estabilidade'] = 1-((tabela['KS']/100)-tabela['ROC']).abs()\n",
        "  \n",
        "  mod_01 = list_modelos_03[int(tabela.iloc[0,0])]\n",
        "  mod_02 = list_modelos_03[int(tabela.iloc[1,0])]\n",
        "  mod_03 = list_modelos_03[int(tabela.iloc[2,0])]\n",
        "\n",
        "  return tabela.sort_values(by=['Estabilidade','ROC','KS'],ascending=False), mod_01, mod_02, mod_03 \n"
      ],
      "execution_count": 115,
      "outputs": []
    },
    {
      "cell_type": "code",
      "metadata": {
        "id": "QQKeA6h7BB8s"
      },
      "source": [
        "tab_resultados, modelo_01, modelo_02, modelo_03 = tab_modelos(modelos,X=x_test[Filtro_1],y=y_test) "
      ],
      "execution_count": 116,
      "outputs": []
    },
    {
      "cell_type": "code",
      "metadata": {
        "colab": {
          "base_uri": "https://localhost:8080/",
          "height": 206
        },
        "id": "ukKq0-hoG5u-",
        "outputId": "1606e3e4-56aa-4152-bcde-9a042deadbaf"
      },
      "source": [
        "tab_resultados"
      ],
      "execution_count": 117,
      "outputs": [
        {
          "output_type": "execute_result",
          "data": {
            "text/html": [
              "<div>\n",
              "<style scoped>\n",
              "    .dataframe tbody tr th:only-of-type {\n",
              "        vertical-align: middle;\n",
              "    }\n",
              "\n",
              "    .dataframe tbody tr th {\n",
              "        vertical-align: top;\n",
              "    }\n",
              "\n",
              "    .dataframe thead th {\n",
              "        text-align: right;\n",
              "    }\n",
              "</style>\n",
              "<table border=\"1\" class=\"dataframe\">\n",
              "  <thead>\n",
              "    <tr style=\"text-align: right;\">\n",
              "      <th></th>\n",
              "      <th>Modelo</th>\n",
              "      <th>KS</th>\n",
              "      <th>ROC</th>\n",
              "      <th>GINI</th>\n",
              "      <th>Estabilidade</th>\n",
              "    </tr>\n",
              "  </thead>\n",
              "  <tbody>\n",
              "    <tr>\n",
              "      <th>2</th>\n",
              "      <td>2</td>\n",
              "      <td>100.00000</td>\n",
              "      <td>1.000000</td>\n",
              "      <td>1.000000</td>\n",
              "      <td>1.000000</td>\n",
              "    </tr>\n",
              "    <tr>\n",
              "      <th>3</th>\n",
              "      <td>3</td>\n",
              "      <td>100.00000</td>\n",
              "      <td>1.000000</td>\n",
              "      <td>1.000000</td>\n",
              "      <td>1.000000</td>\n",
              "    </tr>\n",
              "    <tr>\n",
              "      <th>1</th>\n",
              "      <td>1</td>\n",
              "      <td>100.00000</td>\n",
              "      <td>1.000000</td>\n",
              "      <td>1.000000</td>\n",
              "      <td>1.000000</td>\n",
              "    </tr>\n",
              "    <tr>\n",
              "      <th>4</th>\n",
              "      <td>4</td>\n",
              "      <td>99.45726</td>\n",
              "      <td>0.999935</td>\n",
              "      <td>0.999869</td>\n",
              "      <td>0.994638</td>\n",
              "    </tr>\n",
              "    <tr>\n",
              "      <th>0</th>\n",
              "      <td>0</td>\n",
              "      <td>99.18589</td>\n",
              "      <td>0.999804</td>\n",
              "      <td>0.999608</td>\n",
              "      <td>0.992055</td>\n",
              "    </tr>\n",
              "  </tbody>\n",
              "</table>\n",
              "</div>"
            ],
            "text/plain": [
              "  Modelo         KS       ROC      GINI  Estabilidade\n",
              "2      2  100.00000  1.000000  1.000000      1.000000\n",
              "3      3  100.00000  1.000000  1.000000      1.000000\n",
              "1      1  100.00000  1.000000  1.000000      1.000000\n",
              "4      4   99.45726  0.999935  0.999869      0.994638\n",
              "0      0   99.18589  0.999804  0.999608      0.992055"
            ]
          },
          "metadata": {},
          "execution_count": 117
        }
      ]
    },
    {
      "cell_type": "code",
      "metadata": {
        "colab": {
          "base_uri": "https://localhost:8080/"
        },
        "id": "a7f8g5mZByCK",
        "outputId": "22f20efd-e11e-474a-d2f6-6da626683bc4"
      },
      "source": [
        "y_test.value_counts(normalize=True)"
      ],
      "execution_count": 118,
      "outputs": [
        {
          "output_type": "execute_result",
          "data": {
            "text/plain": [
              "0.0    0.816168\n",
              "1.0    0.183832\n",
              "Name: Status - ID Status Apolice, dtype: float64"
            ]
          },
          "metadata": {},
          "execution_count": 118
        }
      ]
    },
    {
      "cell_type": "code",
      "metadata": {
        "colab": {
          "base_uri": "https://localhost:8080/"
        },
        "id": "4dONW-PgHD5h",
        "outputId": "00fce278-5127-4ea1-bdb8-888d22da2c5a"
      },
      "source": [
        "y_training.value_counts(normalize=True)"
      ],
      "execution_count": 119,
      "outputs": [
        {
          "output_type": "execute_result",
          "data": {
            "text/plain": [
              "1.0    0.892794\n",
              "0.0    0.107206\n",
              "Name: Status - ID Status Apolice, dtype: float64"
            ]
          },
          "metadata": {},
          "execution_count": 119
        }
      ]
    },
    {
      "cell_type": "markdown",
      "metadata": {
        "id": "rcKOJ_WTlqnf"
      },
      "source": [
        "###Test com 70/30"
      ]
    },
    {
      "cell_type": "code",
      "metadata": {
        "id": "XuLYpt6zKdH_"
      },
      "source": [
        "#split data\n",
        "from sklearn.model_selection import train_test_split\n",
        "\n",
        "\n",
        "y_split = df_training_final['Status - ID Status Apolice']\n",
        "X_split = df_training_final[Filtro_1]\n",
        "\n",
        "X_split_train,X_split_test,y_split_train,y_split_test = train_test_split(X_split[Filtro_1],y_split,test_size=0.3)\n"
      ],
      "execution_count": 120,
      "outputs": []
    },
    {
      "cell_type": "code",
      "metadata": {
        "colab": {
          "base_uri": "https://localhost:8080/",
          "height": 143
        },
        "id": "00q13ZGxKc8l",
        "outputId": "a30b59ad-f60c-4fee-e6b4-53a58644c2db"
      },
      "source": [
        "resultados_split,modelos_split = stratificated_cross_validation_XGB(X_split_train[Filtro_1],y_split_train,num_rep=2)\n",
        "resultados"
      ],
      "execution_count": 121,
      "outputs": [
        {
          "output_type": "execute_result",
          "data": {
            "text/html": [
              "<div>\n",
              "<style scoped>\n",
              "    .dataframe tbody tr th:only-of-type {\n",
              "        vertical-align: middle;\n",
              "    }\n",
              "\n",
              "    .dataframe tbody tr th {\n",
              "        vertical-align: top;\n",
              "    }\n",
              "\n",
              "    .dataframe thead th {\n",
              "        text-align: right;\n",
              "    }\n",
              "</style>\n",
              "<table border=\"1\" class=\"dataframe\">\n",
              "  <thead>\n",
              "    <tr style=\"text-align: right;\">\n",
              "      <th></th>\n",
              "      <th>Validacao 0</th>\n",
              "      <th>Validacao 1</th>\n",
              "    </tr>\n",
              "  </thead>\n",
              "  <tbody>\n",
              "    <tr>\n",
              "      <th>KS</th>\n",
              "      <td>32.184465</td>\n",
              "      <td>32.460827</td>\n",
              "    </tr>\n",
              "    <tr>\n",
              "      <th>ROC</th>\n",
              "      <td>0.673094</td>\n",
              "      <td>0.669808</td>\n",
              "    </tr>\n",
              "    <tr>\n",
              "      <th>GINI</th>\n",
              "      <td>0.346187</td>\n",
              "      <td>0.339615</td>\n",
              "    </tr>\n",
              "  </tbody>\n",
              "</table>\n",
              "</div>"
            ],
            "text/plain": [
              "      Validacao 0  Validacao 1\n",
              "KS      32.184465    32.460827\n",
              "ROC      0.673094     0.669808\n",
              "GINI     0.346187     0.339615"
            ]
          },
          "metadata": {},
          "execution_count": 121
        }
      ]
    },
    {
      "cell_type": "code",
      "metadata": {
        "colab": {
          "base_uri": "https://localhost:8080/",
          "height": 206
        },
        "id": "Tn7RtNq9Kc5F",
        "outputId": "9681e52c-bfcc-48eb-ed6f-7bee82644d63"
      },
      "source": [
        "tab_resultados_split, modelo_split_01, modelo_split_02, modelo_split_03 = tab_modelos(modelos_split,\n",
        "                                                                                      X=X_split_test[Filtro_1],y=y_split_test)\n",
        "tab_resultados_split "
      ],
      "execution_count": 122,
      "outputs": [
        {
          "output_type": "execute_result",
          "data": {
            "text/html": [
              "<div>\n",
              "<style scoped>\n",
              "    .dataframe tbody tr th:only-of-type {\n",
              "        vertical-align: middle;\n",
              "    }\n",
              "\n",
              "    .dataframe tbody tr th {\n",
              "        vertical-align: top;\n",
              "    }\n",
              "\n",
              "    .dataframe thead th {\n",
              "        text-align: right;\n",
              "    }\n",
              "</style>\n",
              "<table border=\"1\" class=\"dataframe\">\n",
              "  <thead>\n",
              "    <tr style=\"text-align: right;\">\n",
              "      <th></th>\n",
              "      <th>Modelo</th>\n",
              "      <th>KS</th>\n",
              "      <th>ROC</th>\n",
              "      <th>GINI</th>\n",
              "      <th>Estabilidade</th>\n",
              "    </tr>\n",
              "  </thead>\n",
              "  <tbody>\n",
              "    <tr>\n",
              "      <th>3</th>\n",
              "      <td>3</td>\n",
              "      <td>27.55071</td>\n",
              "      <td>0.646904</td>\n",
              "      <td>0.293807</td>\n",
              "      <td>0.628603</td>\n",
              "    </tr>\n",
              "    <tr>\n",
              "      <th>4</th>\n",
              "      <td>4</td>\n",
              "      <td>27.62586</td>\n",
              "      <td>0.651782</td>\n",
              "      <td>0.303564</td>\n",
              "      <td>0.624477</td>\n",
              "    </tr>\n",
              "    <tr>\n",
              "      <th>2</th>\n",
              "      <td>2</td>\n",
              "      <td>27.78698</td>\n",
              "      <td>0.653987</td>\n",
              "      <td>0.307975</td>\n",
              "      <td>0.623882</td>\n",
              "    </tr>\n",
              "    <tr>\n",
              "      <th>1</th>\n",
              "      <td>1</td>\n",
              "      <td>27.37894</td>\n",
              "      <td>0.653121</td>\n",
              "      <td>0.306241</td>\n",
              "      <td>0.620669</td>\n",
              "    </tr>\n",
              "    <tr>\n",
              "      <th>0</th>\n",
              "      <td>0</td>\n",
              "      <td>27.36689</td>\n",
              "      <td>0.653468</td>\n",
              "      <td>0.306935</td>\n",
              "      <td>0.620201</td>\n",
              "    </tr>\n",
              "  </tbody>\n",
              "</table>\n",
              "</div>"
            ],
            "text/plain": [
              "  Modelo        KS       ROC      GINI  Estabilidade\n",
              "3      3  27.55071  0.646904  0.293807      0.628603\n",
              "4      4  27.62586  0.651782  0.303564      0.624477\n",
              "2      2  27.78698  0.653987  0.307975      0.623882\n",
              "1      1  27.37894  0.653121  0.306241      0.620669\n",
              "0      0  27.36689  0.653468  0.306935      0.620201"
            ]
          },
          "metadata": {},
          "execution_count": 122
        }
      ]
    },
    {
      "cell_type": "code",
      "metadata": {
        "colab": {
          "base_uri": "https://localhost:8080/"
        },
        "id": "2pVGmKOxBBvs",
        "outputId": "1e8a24f0-3072-4adb-ae38-3d9ca1a906e0"
      },
      "source": [
        "# modelo seleccionado\n",
        "\n",
        "modelo_split_01"
      ],
      "execution_count": 123,
      "outputs": [
        {
          "output_type": "execute_result",
          "data": {
            "text/plain": [
              "XGBClassifier(colsample_bylevel=0.6, colsample_bytree=0.8, gamma=0.25,\n",
              "              max_depth=15, min_child_weight=5, reg_lambda=1.0, silent=False,\n",
              "              subsample=0.9)"
            ]
          },
          "metadata": {},
          "execution_count": 123
        }
      ]
    },
    {
      "cell_type": "markdown",
      "metadata": {
        "id": "ZpKcwUQ-VWE_"
      },
      "source": [
        "### Scoring"
      ]
    },
    {
      "cell_type": "code",
      "metadata": {
        "id": "fv7QFJ3zZkIi"
      },
      "source": [
        "df_scorado = df_training[df_training['Status - ID Status Apolice'].isnull()==False]"
      ],
      "execution_count": 128,
      "outputs": []
    },
    {
      "cell_type": "code",
      "metadata": {
        "colab": {
          "base_uri": "https://localhost:8080/"
        },
        "id": "LEAO6OjPZmUa",
        "outputId": "bfe4d742-fda9-449f-ab83-8e33fcd628de"
      },
      "source": [
        "df_scorado[\"probabilidade_nao_renovacao\"] = np.round(modelo_split_01.predict_proba(df_training_final[Filtro_1])[:,1],2)*100"
      ],
      "execution_count": 129,
      "outputs": [
        {
          "output_type": "stream",
          "name": "stderr",
          "text": [
            "/usr/local/lib/python3.7/dist-packages/ipykernel_launcher.py:1: SettingWithCopyWarning: \n",
            "A value is trying to be set on a copy of a slice from a DataFrame.\n",
            "Try using .loc[row_indexer,col_indexer] = value instead\n",
            "\n",
            "See the caveats in the documentation: https://pandas.pydata.org/pandas-docs/stable/user_guide/indexing.html#returning-a-view-versus-a-copy\n",
            "  \"\"\"Entry point for launching an IPython kernel.\n"
          ]
        }
      ]
    },
    {
      "cell_type": "code",
      "metadata": {
        "colab": {
          "base_uri": "https://localhost:8080/",
          "height": 686
        },
        "id": "LTxANTdAWr_j",
        "outputId": "60242598-6ca6-447f-d04d-9c6ae278f7af"
      },
      "source": [
        "df_scorado"
      ],
      "execution_count": 130,
      "outputs": [
        {
          "output_type": "execute_result",
          "data": {
            "text/html": [
              "<div>\n",
              "<style scoped>\n",
              "    .dataframe tbody tr th:only-of-type {\n",
              "        vertical-align: middle;\n",
              "    }\n",
              "\n",
              "    .dataframe tbody tr th {\n",
              "        vertical-align: top;\n",
              "    }\n",
              "\n",
              "    .dataframe thead th {\n",
              "        text-align: right;\n",
              "    }\n",
              "</style>\n",
              "<table border=\"1\" class=\"dataframe\">\n",
              "  <thead>\n",
              "    <tr style=\"text-align: right;\">\n",
              "      <th></th>\n",
              "      <th>cliente - id_cliente</th>\n",
              "      <th>data_inicio_vigencia_apolice</th>\n",
              "      <th>data_fim_vigencia_apolice</th>\n",
              "      <th>data_emissao_apolice</th>\n",
              "      <th>num_proposta</th>\n",
              "      <th>data_proposta</th>\n",
              "      <th>corretor - id_corretor</th>\n",
              "      <th>Departamento - id_apolice_dep</th>\n",
              "      <th>Status - ID Status Apolice</th>\n",
              "      <th>Produto - cod_produto</th>\n",
              "      <th>Cobertura - id_cobertura</th>\n",
              "      <th>Quantidade Dependentes</th>\n",
              "      <th>Escolaridade</th>\n",
              "      <th>Estado Civil</th>\n",
              "      <th>Profissão</th>\n",
              "      <th>Gênero</th>\n",
              "      <th>Data de Nascimento</th>\n",
              "      <th>Pessoa Publica</th>\n",
              "      <th>Politicamente Exposta</th>\n",
              "      <th>Idade</th>\n",
              "      <th>Safra</th>\n",
              "      <th>probabilidade_nao_renovacao</th>\n",
              "    </tr>\n",
              "  </thead>\n",
              "  <tbody>\n",
              "    <tr>\n",
              "      <th>0</th>\n",
              "      <td>30857552</td>\n",
              "      <td>2018-06-27</td>\n",
              "      <td>2021-05-03</td>\n",
              "      <td>2017-06-27</td>\n",
              "      <td>142694.0</td>\n",
              "      <td>2017-03-29</td>\n",
              "      <td>31475748.0</td>\n",
              "      <td>2.0</td>\n",
              "      <td>1.0</td>\n",
              "      <td>5.0</td>\n",
              "      <td>9760507.0</td>\n",
              "      <td>1</td>\n",
              "      <td>3</td>\n",
              "      <td>0</td>\n",
              "      <td>medica</td>\n",
              "      <td>1</td>\n",
              "      <td>1967-05-02</td>\n",
              "      <td>0</td>\n",
              "      <td>0</td>\n",
              "      <td>54</td>\n",
              "      <td>2017-06</td>\n",
              "      <td>57.0</td>\n",
              "    </tr>\n",
              "    <tr>\n",
              "      <th>1</th>\n",
              "      <td>30857552</td>\n",
              "      <td>2021-05-04</td>\n",
              "      <td>2024-05-04</td>\n",
              "      <td>2021-04-04</td>\n",
              "      <td>123445.0</td>\n",
              "      <td>2021-03-11</td>\n",
              "      <td>31270582.0</td>\n",
              "      <td>3.0</td>\n",
              "      <td>0.0</td>\n",
              "      <td>32.0</td>\n",
              "      <td>10182.0</td>\n",
              "      <td>1</td>\n",
              "      <td>3</td>\n",
              "      <td>0</td>\n",
              "      <td>medica</td>\n",
              "      <td>1</td>\n",
              "      <td>1967-05-02</td>\n",
              "      <td>0</td>\n",
              "      <td>0</td>\n",
              "      <td>54</td>\n",
              "      <td>2021-04</td>\n",
              "      <td>55.0</td>\n",
              "    </tr>\n",
              "    <tr>\n",
              "      <th>2</th>\n",
              "      <td>30636255</td>\n",
              "      <td>2019-10-24</td>\n",
              "      <td>2020-01-22</td>\n",
              "      <td>2018-10-24</td>\n",
              "      <td>839415.0</td>\n",
              "      <td>2018-07-26</td>\n",
              "      <td>31268581.0</td>\n",
              "      <td>4.0</td>\n",
              "      <td>1.0</td>\n",
              "      <td>1.0</td>\n",
              "      <td>8334105.0</td>\n",
              "      <td>0</td>\n",
              "      <td>1</td>\n",
              "      <td>0</td>\n",
              "      <td>economistas</td>\n",
              "      <td>0</td>\n",
              "      <td>1990-03-30</td>\n",
              "      <td>0</td>\n",
              "      <td>0</td>\n",
              "      <td>31</td>\n",
              "      <td>2018-10</td>\n",
              "      <td>96.0</td>\n",
              "    </tr>\n",
              "    <tr>\n",
              "      <th>3</th>\n",
              "      <td>30636255</td>\n",
              "      <td>2015-03-02</td>\n",
              "      <td>2015-05-31</td>\n",
              "      <td>2014-03-02</td>\n",
              "      <td>108525.0</td>\n",
              "      <td>2013-12-02</td>\n",
              "      <td>31305504.0</td>\n",
              "      <td>4.0</td>\n",
              "      <td>1.0</td>\n",
              "      <td>4.0</td>\n",
              "      <td>9051300.0</td>\n",
              "      <td>0</td>\n",
              "      <td>1</td>\n",
              "      <td>0</td>\n",
              "      <td>economistas</td>\n",
              "      <td>0</td>\n",
              "      <td>1990-03-30</td>\n",
              "      <td>0</td>\n",
              "      <td>0</td>\n",
              "      <td>31</td>\n",
              "      <td>2014-03</td>\n",
              "      <td>95.0</td>\n",
              "    </tr>\n",
              "    <tr>\n",
              "      <th>4</th>\n",
              "      <td>30628938</td>\n",
              "      <td>2016-04-07</td>\n",
              "      <td>2016-07-06</td>\n",
              "      <td>2015-04-08</td>\n",
              "      <td>964465.0</td>\n",
              "      <td>2015-01-08</td>\n",
              "      <td>31170066.0</td>\n",
              "      <td>4.0</td>\n",
              "      <td>1.0</td>\n",
              "      <td>5.0</td>\n",
              "      <td>7081702.0</td>\n",
              "      <td>3</td>\n",
              "      <td>1</td>\n",
              "      <td>1</td>\n",
              "      <td>professor de psicologia</td>\n",
              "      <td>1</td>\n",
              "      <td>1988-07-28</td>\n",
              "      <td>0</td>\n",
              "      <td>0</td>\n",
              "      <td>33</td>\n",
              "      <td>2015-04</td>\n",
              "      <td>97.0</td>\n",
              "    </tr>\n",
              "    <tr>\n",
              "      <th>...</th>\n",
              "      <td>...</td>\n",
              "      <td>...</td>\n",
              "      <td>...</td>\n",
              "      <td>...</td>\n",
              "      <td>...</td>\n",
              "      <td>...</td>\n",
              "      <td>...</td>\n",
              "      <td>...</td>\n",
              "      <td>...</td>\n",
              "      <td>...</td>\n",
              "      <td>...</td>\n",
              "      <td>...</td>\n",
              "      <td>...</td>\n",
              "      <td>...</td>\n",
              "      <td>...</td>\n",
              "      <td>...</td>\n",
              "      <td>...</td>\n",
              "      <td>...</td>\n",
              "      <td>...</td>\n",
              "      <td>...</td>\n",
              "      <td>...</td>\n",
              "      <td>...</td>\n",
              "    </tr>\n",
              "    <tr>\n",
              "      <th>43545</th>\n",
              "      <td>30640073</td>\n",
              "      <td>2016-08-22</td>\n",
              "      <td>NaN</td>\n",
              "      <td>2015-08-23</td>\n",
              "      <td>145774.0</td>\n",
              "      <td>2015-05-25</td>\n",
              "      <td>31483607.0</td>\n",
              "      <td>5.0</td>\n",
              "      <td>1.0</td>\n",
              "      <td>2.0</td>\n",
              "      <td>3473049.0</td>\n",
              "      <td>3</td>\n",
              "      <td>0</td>\n",
              "      <td>3</td>\n",
              "      <td>assistente de vendas financeiro</td>\n",
              "      <td>1</td>\n",
              "      <td>1990-12-10</td>\n",
              "      <td>0</td>\n",
              "      <td>0</td>\n",
              "      <td>31</td>\n",
              "      <td>2015-08</td>\n",
              "      <td>99.0</td>\n",
              "    </tr>\n",
              "    <tr>\n",
              "      <th>43546</th>\n",
              "      <td>30627271</td>\n",
              "      <td>2017-01-17</td>\n",
              "      <td>2017-04-17</td>\n",
              "      <td>2016-01-18</td>\n",
              "      <td>914452.0</td>\n",
              "      <td>2015-10-20</td>\n",
              "      <td>30758773.0</td>\n",
              "      <td>4.0</td>\n",
              "      <td>1.0</td>\n",
              "      <td>3.0</td>\n",
              "      <td>4639524.0</td>\n",
              "      <td>0</td>\n",
              "      <td>2</td>\n",
              "      <td>2</td>\n",
              "      <td>professor de comunicacao</td>\n",
              "      <td>0</td>\n",
              "      <td>1987-08-07</td>\n",
              "      <td>0</td>\n",
              "      <td>0</td>\n",
              "      <td>34</td>\n",
              "      <td>2016-01</td>\n",
              "      <td>93.0</td>\n",
              "    </tr>\n",
              "    <tr>\n",
              "      <th>43547</th>\n",
              "      <td>30626903</td>\n",
              "      <td>2016-04-27</td>\n",
              "      <td>2017-04-27</td>\n",
              "      <td>2015-04-28</td>\n",
              "      <td>641962.0</td>\n",
              "      <td>2015-01-28</td>\n",
              "      <td>30997334.0</td>\n",
              "      <td>1.0</td>\n",
              "      <td>1.0</td>\n",
              "      <td>5.0</td>\n",
              "      <td>423038.0</td>\n",
              "      <td>0</td>\n",
              "      <td>0</td>\n",
              "      <td>1</td>\n",
              "      <td>agente de viagem</td>\n",
              "      <td>0</td>\n",
              "      <td>1987-10-26</td>\n",
              "      <td>0</td>\n",
              "      <td>0</td>\n",
              "      <td>34</td>\n",
              "      <td>2015-04</td>\n",
              "      <td>82.0</td>\n",
              "    </tr>\n",
              "    <tr>\n",
              "      <th>43548</th>\n",
              "      <td>30646352</td>\n",
              "      <td>2018-03-19</td>\n",
              "      <td>NaN</td>\n",
              "      <td>2017-03-19</td>\n",
              "      <td>692539.0</td>\n",
              "      <td>2016-12-19</td>\n",
              "      <td>31401113.0</td>\n",
              "      <td>5.0</td>\n",
              "      <td>1.0</td>\n",
              "      <td>4.0</td>\n",
              "      <td>8150313.0</td>\n",
              "      <td>0</td>\n",
              "      <td>0</td>\n",
              "      <td>1</td>\n",
              "      <td>professsor de geografia</td>\n",
              "      <td>0</td>\n",
              "      <td>1979-01-12</td>\n",
              "      <td>0</td>\n",
              "      <td>0</td>\n",
              "      <td>42</td>\n",
              "      <td>2017-03</td>\n",
              "      <td>100.0</td>\n",
              "    </tr>\n",
              "    <tr>\n",
              "      <th>43549</th>\n",
              "      <td>30649553</td>\n",
              "      <td>2015-02-11</td>\n",
              "      <td>2016-02-11</td>\n",
              "      <td>2014-02-11</td>\n",
              "      <td>246439.0</td>\n",
              "      <td>2013-11-13</td>\n",
              "      <td>31444615.0</td>\n",
              "      <td>3.0</td>\n",
              "      <td>1.0</td>\n",
              "      <td>4.0</td>\n",
              "      <td>5020818.0</td>\n",
              "      <td>0</td>\n",
              "      <td>1</td>\n",
              "      <td>0</td>\n",
              "      <td>tecnicos de eletricidade</td>\n",
              "      <td>1</td>\n",
              "      <td>1957-08-26</td>\n",
              "      <td>0</td>\n",
              "      <td>0</td>\n",
              "      <td>64</td>\n",
              "      <td>2014-02</td>\n",
              "      <td>83.0</td>\n",
              "    </tr>\n",
              "  </tbody>\n",
              "</table>\n",
              "<p>43550 rows × 22 columns</p>\n",
              "</div>"
            ],
            "text/plain": [
              "       cliente - id_cliente  ... probabilidade_nao_renovacao\n",
              "0                  30857552  ...                        57.0\n",
              "1                  30857552  ...                        55.0\n",
              "2                  30636255  ...                        96.0\n",
              "3                  30636255  ...                        95.0\n",
              "4                  30628938  ...                        97.0\n",
              "...                     ...  ...                         ...\n",
              "43545              30640073  ...                        99.0\n",
              "43546              30627271  ...                        93.0\n",
              "43547              30626903  ...                        82.0\n",
              "43548              30646352  ...                       100.0\n",
              "43549              30649553  ...                        83.0\n",
              "\n",
              "[43550 rows x 22 columns]"
            ]
          },
          "metadata": {},
          "execution_count": 130
        }
      ]
    },
    {
      "cell_type": "code",
      "metadata": {
        "colab": {
          "base_uri": "https://localhost:8080/",
          "height": 265
        },
        "id": "anhXYU5KmHU8",
        "outputId": "06522b3b-991f-49ff-c13a-faa236b0c9c2"
      },
      "source": [
        "plt.hist(df_scorado['probabilidade_nao_renovacao'], 10, rwidth=0.9)\n",
        "plt.show()"
      ],
      "execution_count": 131,
      "outputs": [
        {
          "output_type": "display_data",
          "data": {
            "image/png": "[encoded data removed]",
            "text/plain": [
              "<Figure size 432x288 with 1 Axes>"
            ]
          },
          "metadata": {
            "needs_background": "light"
          }
        }
      ]
    },
    {
      "cell_type": "markdown",
      "metadata": {
        "id": "H_8-5OmOailc"
      },
      "source": [
        "### Save model"
      ]
    },
    {
      "cell_type": "code",
      "metadata": {
        "id": "yePnxZFPVVHu"
      },
      "source": [
        "# Save Model Using joblib\n",
        "\n",
        "import joblib\n",
        "\n",
        "# save the model to disk\n",
        "filename = 'modelo_renovacao_porto_V001.sav'\n",
        "joblib.dump(modelo_split_01, filename)"
      ],
      "execution_count": null,
      "outputs": []
    },
    {
      "cell_type": "code",
      "metadata": {
        "id": "pm5KG6gpVVCp"
      },
      "source": [
        "# load the model from disk\n",
        "Modelos_001 = joblib.load('/content/modelo_renovacao_porto_V001.sav')\n",
        "\n",
        "#result = loaded_model.score(X_test, Y_test)\n",
        "#print(result)"
      ],
      "execution_count": null,
      "outputs": []
    },
    {
      "cell_type": "code",
      "metadata": {
        "id": "LfMSNMwkBBqM"
      },
      "source": [
        "Modelos_001\n"
      ],
      "execution_count": null,
      "outputs": []
    }
  ]
}